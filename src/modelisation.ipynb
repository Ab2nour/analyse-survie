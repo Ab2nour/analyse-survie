{
 "cells": [
  {
   "cell_type": "markdown",
   "metadata": {},
   "source": [
    "# Import des outils / jeu de données"
   ]
  },
  {
   "cell_type": "code",
   "execution_count": 1,
   "metadata": {
    "ExecuteTime": {
     "end_time": "2023-10-24T06:54:34.237845209Z",
     "start_time": "2023-10-24T06:54:33.597706305Z"
    }
   },
   "outputs": [],
   "source": [
    "import numpy as np\n",
    "import pandas as pd\n",
    "import seaborn as sns\n",
    "from lifelines import KaplanMeierFitter\n",
    "import matplotlib.pyplot as plt\n",
    "\n",
    "import os"
   ]
  },
  {
   "cell_type": "code",
   "execution_count": 2,
   "metadata": {
    "ExecuteTime": {
     "end_time": "2023-10-24T06:54:34.250923330Z",
     "start_time": "2023-10-24T06:54:33.968340328Z"
    }
   },
   "outputs": [
    {
     "data": {
      "text/plain": [
       "'/home/ab2/Documents/GitHub/ab2/analyse-survie/src'"
      ]
     },
     "execution_count": 2,
     "metadata": {},
     "output_type": "execute_result"
    }
   ],
   "source": [
    "os.getcwd()"
   ]
  },
  {
   "cell_type": "code",
   "execution_count": 3,
   "metadata": {
    "ExecuteTime": {
     "end_time": "2023-10-24T06:54:43.599768809Z",
     "start_time": "2023-10-24T06:54:43.406920435Z"
    }
   },
   "outputs": [],
   "source": [
    "np.random.seed(0)\n",
    "sns.set_theme()"
   ]
  },
  {
   "cell_type": "code",
   "execution_count": null,
   "outputs": [],
   "source": [
    "df = pd.read_csv(\n",
    "    \"../data/kickstarter_1.csv\",\n",
    "    parse_dates=True,\n",
    ")"
   ],
   "metadata": {
    "collapsed": false
   }
  },
  {
   "cell_type": "markdown",
   "source": [
    "# Kaplan-Meier"
   ],
   "metadata": {
    "collapsed": false
   }
  },
  {
   "cell_type": "markdown",
   "source": [],
   "metadata": {
    "collapsed": false
   }
  },
  {
   "cell_type": "code",
   "execution_count": null,
   "outputs": [],
   "source": [
    "sns.histplot(df[\"day_succ\"])"
   ],
   "metadata": {
    "collapsed": false
   }
  },
  {
   "cell_type": "code",
   "execution_count": null,
   "outputs": [],
   "source": [
    "kmf1 = KaplanMeierFitter()\n",
    "\n",
    "event_times = df[\"day_succ\"]\n",
    "event_observed = df[\"Status\"]\n",
    "kmf1.fit(event_times, event_observed)"
   ],
   "metadata": {
    "collapsed": false
   }
  },
  {
   "cell_type": "code",
   "execution_count": null,
   "outputs": [],
   "source": [
    "plt.figure(figsize=(12, 6))\n",
    "kmf1.plot()\n",
    "plt.title(\n",
    "    \"Probabilité que le projet n'ait pas encore été financé - données censurées incluses\"\n",
    ")\n",
    "plt.xlabel(\"Nombre de jours écoulés depuis le lancement du projet\")\n",
    "plt.ylabel(\"Probabilité\")"
   ],
   "metadata": {
    "collapsed": false
   }
  },
  {
   "cell_type": "code",
   "execution_count": null,
   "outputs": [],
   "source": [
    "kmf2 = KaplanMeierFitter()\n",
    "\n",
    "event_times = df[\"day_succ\"][df[\"Status\"] == 1]\n",
    "event_observed = df[\"Status\"][df[\"Status\"] == 1]\n",
    "\n",
    "kmf2.fit(event_times, event_observed)"
   ],
   "metadata": {
    "collapsed": false
   }
  },
  {
   "cell_type": "code",
   "execution_count": null,
   "outputs": [],
   "source": [
    "plt.figure(figsize=(12, 6))\n",
    "kmf2.plot()\n",
    "plt.title(\n",
    "    \"Probabilité que le projet n'ait pas encore été financé - données censurées exclues\"\n",
    ")\n",
    "plt.xlabel(\"Nombre de jours écoulés depuis le lancement du projet\")\n",
    "plt.ylabel(\"Probabilité\")"
   ],
   "metadata": {
    "collapsed": false
   }
  },
  {
   "cell_type": "code",
   "execution_count": null,
   "outputs": [],
   "source": [
    "kmf1 = KaplanMeierFitter()\n",
    "\n",
    "event_times = df[\"day_succ\"]\n",
    "event_observed = df[\"Status\"]\n",
    "kmf1.fit(event_times, event_observed)\n",
    "plt.figure(figsize=(12, 6))\n",
    "kmf1.plot_survival_function(label=\"Avec censure\")\n",
    "kmf2 = KaplanMeierFitter()\n",
    "\n",
    "event_times = df[\"day_succ\"][df[\"Status\"] == 1]\n",
    "event_observed = df[\"Status\"][df[\"Status\"] == 1]\n",
    "\n",
    "kmf2.fit(event_times, event_observed)\n",
    "\n",
    "kmf2.plot_survival_function(label=\"Sans censure\")\n",
    "plt.title(\n",
    "    \"Probabilité que le projet n'ait pas encore été financé\\n- données censurées vs non censurées\\n(estimation de Kaplan-Meier)\"\n",
    ")\n",
    "plt.xlabel(\"Nombre de jours écoulés depuis le lancement du projet\")\n",
    "plt.ylabel(\"Probabilité\")"
   ],
   "metadata": {
    "collapsed": false
   }
  },
  {
   "cell_type": "code",
   "execution_count": null,
   "outputs": [],
   "source": [],
   "metadata": {
    "collapsed": false
   }
  },
  {
   "cell_type": "markdown",
   "source": [
    "# Kaplan Meier par classe"
   ],
   "metadata": {
    "collapsed": false
   }
  },
  {
   "cell_type": "code",
   "execution_count": null,
   "outputs": [],
   "source": [
    "df_video = df[df[\"has_video\"] == 1].copy()\n",
    "df_no_video = df[df[\"has_video\"] == 0].copy()"
   ],
   "metadata": {
    "collapsed": false
   }
  },
  {
   "cell_type": "code",
   "execution_count": null,
   "outputs": [],
   "source": [
    "plt.figure(figsize=(12, 6))\n",
    "kmf = KaplanMeierFitter()\n",
    "\n",
    "event_times = df[\"day_succ\"]\n",
    "event_observed = df[\"Status\"]\n",
    "kmf.fit(event_times, event_observed)\n",
    "kmf.plot_survival_function(label=\"population complète\")\n",
    "\n",
    "\n",
    "event_times = df_video[\"day_succ\"]\n",
    "event_observed = df_video[\"Status\"]\n",
    "kmf.fit(event_times, event_observed)\n",
    "\n",
    "kmf.plot_survival_function(label=\"avec vidéo\")\n",
    "\n",
    "\n",
    "event_times = df_no_video[\"day_succ\"]\n",
    "event_observed = df_no_video[\"Status\"]\n",
    "kmf.fit(event_times, event_observed)\n",
    "\n",
    "kmf.plot_survival_function(label=\"sans vidéo\")\n",
    "\n",
    "plt.title(\n",
    "    \"\"\"Probabilité que le projet n'ait pas encore été financé\\nen fonction du critère \"possède une vidéo\"\\n(estimation de Kaplan-Meier)\"\"\"\n",
    ")\n",
    "\n",
    "\n",
    "plt.xlabel(\"Nombre de jours écoulés depuis le lancement du projet\")\n",
    "plt.ylabel(\"Probabilité\")"
   ],
   "metadata": {
    "collapsed": false
   }
  }
 ],
 "metadata": {
  "kernelspec": {
   "display_name": "analyse-survie-u26xY_b1-py3.10",
   "language": "python",
   "name": "python3"
  },
  "language_info": {
   "codemirror_mode": {
    "name": "ipython",
    "version": 3
   },
   "file_extension": ".py",
   "mimetype": "text/x-python",
   "name": "python",
   "nbconvert_exporter": "python",
   "pygments_lexer": "ipython3",
   "version": "3.10.10"
  }
 },
 "nbformat": 4,
 "nbformat_minor": 2
}
