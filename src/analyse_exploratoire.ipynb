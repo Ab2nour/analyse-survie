{
 "cells": [
  {
   "cell_type": "markdown",
   "metadata": {},
   "source": [
    "**Analyse de survie appliquée à la réussite de projets Kickstarter**\n",
    "_Jules EXBRAYAT & Abdenour MADANI_"
   ]
  },
  {
   "cell_type": "markdown",
   "metadata": {},
   "source": [
    "# Import des outils / jeu de données"
   ]
  },
  {
   "cell_type": "code",
   "execution_count": null,
   "metadata": {},
   "outputs": [],
   "source": [
    "import matplotlib.pyplot as plt\n",
    "import numpy as np\n",
    "import pandas as pd\n",
    "import seaborn as sns"
   ]
  },
  {
   "cell_type": "code",
   "execution_count": null,
   "metadata": {},
   "outputs": [],
   "source": [
    "np.random.seed(0)\n",
    "sns.set_theme()"
   ]
  },
  {
   "cell_type": "code",
   "execution_count": null,
   "metadata": {},
   "outputs": [],
   "source": [
    "df = pd.read_csv(\n",
    "    \"../data/kickstarter_1.csv\",\n",
    "    parse_dates=True,\n",
    ")"
   ]
  },
  {
   "cell_type": "markdown",
   "metadata": {},
   "source": [
    "# Présentation"
   ]
  },
  {
   "cell_type": "markdown",
   "metadata": {},
   "source": [
    "## Problématique"
   ]
  },
  {
   "cell_type": "code",
   "execution_count": null,
   "metadata": {},
   "outputs": [],
   "source": [
    "# TODO: formuler une pbtique"
   ]
  },
  {
   "cell_type": "markdown",
   "metadata": {},
   "source": [
    "## Jeu de données"
   ]
  },
  {
   "cell_type": "code",
   "execution_count": null,
   "metadata": {},
   "outputs": [],
   "source": [
    "# TODO: ajouter une description / une partie pour parler du jeu de données"
   ]
  },
  {
   "cell_type": "markdown",
   "metadata": {},
   "source": [
    "### Lecture des données"
   ]
  },
  {
   "cell_type": "markdown",
   "metadata": {},
   "source": [
    "### Présentation des variables"
   ]
  },
  {
   "cell_type": "code",
   "execution_count": null,
   "metadata": {},
   "outputs": [
    {
     "name": "stdout",
     "output_type": "stream",
     "text": [
      "Il y a 56 variables qui décrivent 4175 projets kickstarter.\n"
     ]
    }
   ],
   "source": [
    "print(\n",
    "    f\"Il y a {df.shape[1]} variables \"\n",
    "    f\"qui décrivent {df.shape[0]} projets kickstarter.\"\n",
    ")"
   ]
  },
  {
   "cell_type": "code",
   "execution_count": null,
   "metadata": {},
   "outputs": [
    {
     "name": "stdout",
     "output_type": "stream",
     "text": [
      "<class 'pandas.core.frame.DataFrame'>\n",
      "RangeIndex: 4175 entries, 0 to 4174\n",
      "Data columns (total 56 columns):\n",
      " #   Column                      Non-Null Count  Dtype  \n",
      "---  ------                      --------------  -----  \n",
      " 0   day_succ                    4175 non-null   int64  \n",
      " 1   Status                      4175 non-null   int64  \n",
      " 2   cat1                        4175 non-null   int64  \n",
      " 3   cat2                        4175 non-null   int64  \n",
      " 4   cat3                        4175 non-null   int64  \n",
      " 5   cat4                        4175 non-null   int64  \n",
      " 6   cat5                        4175 non-null   int64  \n",
      " 7   cat6                        4175 non-null   int64  \n",
      " 8   cat7                        4175 non-null   int64  \n",
      " 9   cat8                        4175 non-null   int64  \n",
      " 10  cat9                        4175 non-null   int64  \n",
      " 11  cat10                       4175 non-null   int64  \n",
      " 12  cat11                       4175 non-null   int64  \n",
      " 13  cat12                       4175 non-null   int64  \n",
      " 14  cat13                       4175 non-null   int64  \n",
      " 15  cat14                       4175 non-null   int64  \n",
      " 16  cat15                       4175 non-null   int64  \n",
      " 17  curr1                       4175 non-null   int64  \n",
      " 18  curr2                       4175 non-null   int64  \n",
      " 19  curr3                       4175 non-null   int64  \n",
      " 20  curr4                       4175 non-null   int64  \n",
      " 21  curr5                       4175 non-null   int64  \n",
      " 22  curr6                       4175 non-null   int64  \n",
      " 23  goal                        4175 non-null   float64\n",
      " 24  backers                     4175 non-null   float64\n",
      " 25  pledged                     4175 non-null   float64\n",
      " 26  duration                    4175 non-null   float64\n",
      " 27  updates                     4175 non-null   float64\n",
      " 28  comments                    4175 non-null   float64\n",
      " 29  rewards                     4175 non-null   float64\n",
      " 30  facebook_connected          4175 non-null   int64  \n",
      " 31  facebook_friends            4175 non-null   float64\n",
      " 32  facebook_shares             4175 non-null   float64\n",
      " 33  has_video                   4175 non-null   int64  \n",
      " 34  creator_projects_created    4175 non-null   float64\n",
      " 35  creator_projects_backed     4175 non-null   float64\n",
      " 36  videos                      4175 non-null   float64\n",
      " 37  images                      4175 non-null   float64\n",
      " 38  words_description           4175 non-null   float64\n",
      " 39  words_risks_and_challenges  4175 non-null   float64\n",
      " 40  faqs                        4175 non-null   float64\n",
      " 41  prj_prom                    4175 non-null   float64\n",
      " 42  crt_suc_perc                4175 non-null   float64\n",
      " 43  usr_net_pg_rnk              4175 non-null   float64\n",
      " 44  usr_net_nodes               4175 non-null   float64\n",
      " 45  usr_net_tie                 4175 non-null   float64\n",
      " 46  usr_net_bic                 4175 non-null   float64\n",
      " 47  1f_plg                      4175 non-null   float64\n",
      " 48  1f_bck                      4175 non-null   float64\n",
      " 49  1prj_prom                   4175 non-null   float64\n",
      " 50  2f_plg                      4175 non-null   float64\n",
      " 51  2f_bck                      4175 non-null   float64\n",
      " 52  2prj_prom                   4175 non-null   float64\n",
      " 53  3f_plg                      4175 non-null   float64\n",
      " 54  3f_bck                      4175 non-null   float64\n",
      " 55  3prj_prom                   4175 non-null   float64\n",
      "dtypes: float64(31), int64(25)\n",
      "memory usage: 1.8 MB\n"
     ]
    }
   ],
   "source": [
    "df.info()"
   ]
  },
  {
   "cell_type": "markdown",
   "metadata": {},
   "source": [
    "Nous séparons les variables numériques des variables catégoriques pour plus de commodités."
   ]
  },
  {
   "cell_type": "code",
   "execution_count": null,
   "metadata": {},
   "outputs": [
    {
     "data": {
      "text/plain": "['cat1',\n 'cat2',\n 'cat3',\n 'cat4',\n 'cat5',\n 'cat6',\n 'cat7',\n 'cat8',\n 'cat9',\n 'cat10',\n 'cat11',\n 'cat12',\n 'cat13',\n 'cat14',\n 'cat15',\n 'curr1',\n 'curr2',\n 'curr3',\n 'curr4',\n 'curr5',\n 'curr6',\n 'Status',\n 'facebook_connected',\n 'has_video']"
     },
     "execution_count": null,
     "metadata": {},
     "output_type": "execute_result"
    }
   ],
   "source": [
    "var_categoriques = (\n",
    "    [f\"cat{i}\" for i in range(1, 16)]\n",
    "    + [f\"curr{i}\" for i in range(1, 7)]\n",
    "    + [\"Status\", \"facebook_connected\", \"has_video\"]\n",
    ")\n",
    "var_categoriques"
   ]
  },
  {
   "cell_type": "code",
   "execution_count": null,
   "metadata": {},
   "outputs": [],
   "source": [
    "var_numeriques = df.columns"
   ]
  },
  {
   "cell_type": "markdown",
   "metadata": {},
   "source": [
    "Nous convertissons les variables catégoriques en type `category`. (Nous les convertissons au préalable en type `string` car cela facilite l'affichage de la légende avec Matplotlib et Seaborn)"
   ]
  },
  {
   "cell_type": "code",
   "execution_count": null,
   "metadata": {},
   "outputs": [],
   "source": [
    "df[var_categoriques] = df[var_categoriques].astype(str).astype(\"category\")"
   ]
  },
  {
   "cell_type": "markdown",
   "metadata": {},
   "source": [
    "Nous convertissons les variables au format date."
   ]
  },
  {
   "cell_type": "code",
   "execution_count": null,
   "metadata": {},
   "outputs": [
    {
     "name": "stdout",
     "output_type": "stream",
     "text": [
      "<class 'pandas.core.frame.DataFrame'>\n",
      "RangeIndex: 4175 entries, 0 to 4174\n",
      "Data columns (total 56 columns):\n",
      " #   Column                      Non-Null Count  Dtype   \n",
      "---  ------                      --------------  -----   \n",
      " 0   day_succ                    4175 non-null   int64   \n",
      " 1   Status                      4175 non-null   category\n",
      " 2   cat1                        4175 non-null   category\n",
      " 3   cat2                        4175 non-null   category\n",
      " 4   cat3                        4175 non-null   category\n",
      " 5   cat4                        4175 non-null   category\n",
      " 6   cat5                        4175 non-null   category\n",
      " 7   cat6                        4175 non-null   category\n",
      " 8   cat7                        4175 non-null   category\n",
      " 9   cat8                        4175 non-null   category\n",
      " 10  cat9                        4175 non-null   category\n",
      " 11  cat10                       4175 non-null   category\n",
      " 12  cat11                       4175 non-null   category\n",
      " 13  cat12                       4175 non-null   category\n",
      " 14  cat13                       4175 non-null   category\n",
      " 15  cat14                       4175 non-null   category\n",
      " 16  cat15                       4175 non-null   category\n",
      " 17  curr1                       4175 non-null   category\n",
      " 18  curr2                       4175 non-null   category\n",
      " 19  curr3                       4175 non-null   category\n",
      " 20  curr4                       4175 non-null   category\n",
      " 21  curr5                       4175 non-null   category\n",
      " 22  curr6                       4175 non-null   category\n",
      " 23  goal                        4175 non-null   float64 \n",
      " 24  backers                     4175 non-null   float64 \n",
      " 25  pledged                     4175 non-null   float64 \n",
      " 26  duration                    4175 non-null   float64 \n",
      " 27  updates                     4175 non-null   float64 \n",
      " 28  comments                    4175 non-null   float64 \n",
      " 29  rewards                     4175 non-null   float64 \n",
      " 30  facebook_connected          4175 non-null   category\n",
      " 31  facebook_friends            4175 non-null   float64 \n",
      " 32  facebook_shares             4175 non-null   float64 \n",
      " 33  has_video                   4175 non-null   category\n",
      " 34  creator_projects_created    4175 non-null   float64 \n",
      " 35  creator_projects_backed     4175 non-null   float64 \n",
      " 36  videos                      4175 non-null   float64 \n",
      " 37  images                      4175 non-null   float64 \n",
      " 38  words_description           4175 non-null   float64 \n",
      " 39  words_risks_and_challenges  4175 non-null   float64 \n",
      " 40  faqs                        4175 non-null   float64 \n",
      " 41  prj_prom                    4175 non-null   float64 \n",
      " 42  crt_suc_perc                4175 non-null   float64 \n",
      " 43  usr_net_pg_rnk              4175 non-null   float64 \n",
      " 44  usr_net_nodes               4175 non-null   float64 \n",
      " 45  usr_net_tie                 4175 non-null   float64 \n",
      " 46  usr_net_bic                 4175 non-null   float64 \n",
      " 47  1f_plg                      4175 non-null   float64 \n",
      " 48  1f_bck                      4175 non-null   float64 \n",
      " 49  1prj_prom                   4175 non-null   float64 \n",
      " 50  2f_plg                      4175 non-null   float64 \n",
      " 51  2f_bck                      4175 non-null   float64 \n",
      " 52  2prj_prom                   4175 non-null   float64 \n",
      " 53  3f_plg                      4175 non-null   float64 \n",
      " 54  3f_bck                      4175 non-null   float64 \n",
      " 55  3prj_prom                   4175 non-null   float64 \n",
      "dtypes: category(24), float64(31), int64(1)\n",
      "memory usage: 1.1 MB\n"
     ]
    }
   ],
   "source": [
    "df.info()"
   ]
  },
  {
   "cell_type": "markdown",
   "metadata": {},
   "source": [
    "Nous avons 11 variables catégoriques, 16 variables quantitatives (dont 15 entières) ainsi qu'une variable de type date."
   ]
  },
  {
   "cell_type": "markdown",
   "metadata": {},
   "source": [
    "# Visualisations"
   ]
  },
  {
   "cell_type": "code",
   "execution_count": null,
   "metadata": {},
   "outputs": [
    {
     "data": {
      "text/plain": "<Axes: xlabel='day_succ', ylabel='Count'>"
     },
     "execution_count": null,
     "metadata": {},
     "output_type": "execute_result"
    },
    {
     "data": {
      "image/png": "[encoded data removed]",
      "text/plain": "<Figure size 640x480 with 1 Axes>"
     },
     "metadata": {},
     "output_type": "display_data"
    }
   ],
   "source": [
    "sns.histplot(df[\"day_succ\"])"
   ]
  },
  {
   "cell_type": "code",
   "execution_count": null,
   "metadata": {},
   "outputs": [
    {
     "data": {
      "text/plain": "Text(0.5, 0, '0 = censuré\\n1 = projet financé dans le temps imparti')"
     },
     "execution_count": null,
     "metadata": {},
     "output_type": "execute_result"
    },
    {
     "data": {
      "image/png": "[encoded data removed]",
      "text/plain": "<Figure size 640x480 with 1 Axes>"
     },
     "metadata": {},
     "output_type": "display_data"
    }
   ],
   "source": [
    "plt.title(\"Répartition des projets\")\n",
    "sns.histplot(df[\"Status\"])\n",
    "plt.xlabel(\"0 = censuré\\n1 = projet financé dans le temps imparti\")"
   ]
  }
 ],
 "metadata": {
  "kernelspec": {
   "display_name": "python3",
   "language": "python",
   "name": "python3"
  }
 },
 "nbformat": 4,
 "nbformat_minor": 0
}
