{
 "cells": [
  {
   "cell_type": "markdown",
   "metadata": {},
   "source": [
    "**Analyse et segmentation de clientèle d'un magasin avec campagnes de marketing**\n",
    "_Jules EXBRAYAT & Abdenour MADANI_"
   ]
  },
  {
   "cell_type": "markdown",
   "metadata": {},
   "source": [
    "# Import des outils / jeu de données"
   ]
  },
  {
   "cell_type": "code",
   "execution_count": 3,
   "metadata": {
    "ExecuteTime": {
     "end_time": "2023-10-01T09:17:07.552524272Z",
     "start_time": "2023-10-01T09:17:07.510287571Z"
    }
   },
   "outputs": [],
   "source": [
    "import matplotlib.pyplot as plt\n",
    "import numpy as np\n",
    "import pandas as pd\n",
    "import seaborn as sns\n",
    "\n",
    "import os"
   ]
  },
  {
   "cell_type": "code",
   "execution_count": 4,
   "metadata": {
    "ExecuteTime": {
     "end_time": "2023-10-01T09:17:07.889483773Z",
     "start_time": "2023-10-01T09:17:07.872688382Z"
    },
    "collapsed": false
   },
   "outputs": [
    {
     "data": {
      "text/plain": [
       "'c:\\\\Users\\\\jules\\\\Desktop\\\\Cours\\\\DataScience\\\\analyse-survie\\\\src'"
      ]
     },
     "execution_count": 4,
     "metadata": {},
     "output_type": "execute_result"
    }
   ],
   "source": [
    "os.getcwd()"
   ]
  },
  {
   "cell_type": "code",
   "execution_count": 5,
   "metadata": {
    "ExecuteTime": {
     "end_time": "2023-10-01T09:17:08.199553913Z",
     "start_time": "2023-10-01T09:17:08.189424305Z"
    }
   },
   "outputs": [],
   "source": [
    "np.random.seed(0)\n",
    "sns.set_theme()"
   ]
  },
  {
   "cell_type": "code",
   "execution_count": 12,
   "metadata": {
    "ExecuteTime": {
     "end_time": "2023-10-01T09:18:43.455243542Z",
     "start_time": "2023-10-01T09:18:43.406621962Z"
    }
   },
   "outputs": [],
   "source": [
    "df = pd.read_csv(\n",
    "    \"../data/kickstarter_1.csv\",\n",
    "    parse_dates=True,\n",
    ")"
   ]
  },
  {
   "cell_type": "markdown",
   "metadata": {},
   "source": [
    "# Présentation"
   ]
  },
  {
   "cell_type": "markdown",
   "metadata": {},
   "source": [
    "## Problématique"
   ]
  },
  {
   "cell_type": "code",
   "execution_count": null,
   "metadata": {},
   "outputs": [],
   "source": [
    "#TODO: formuler une pbtique"
   ]
  },
  {
   "cell_type": "markdown",
   "metadata": {},
   "source": [
    "## Jeu de données"
   ]
  },
  {
   "cell_type": "code",
   "execution_count": 16,
   "metadata": {},
   "outputs": [],
   "source": [
    "#TODO: ajouter une description / une partie pour parler du jeu de données"
   ]
  },
  {
   "cell_type": "markdown",
   "metadata": {},
   "source": [
    "### Lecture des données"
   ]
  },
  {
   "cell_type": "markdown",
   "metadata": {},
   "source": [
    "### Présentation des variables"
   ]
  },
  {
   "cell_type": "code",
   "execution_count": 20,
   "metadata": {},
   "outputs": [
    {
     "name": "stdout",
     "output_type": "stream",
     "text": [
      "Il y a 56 variables qui décrivent 4175 projets kickstarter.\n"
     ]
    }
   ],
   "source": [
    "print(f\"Il y a {df.shape[1]} variables qui décrivent {df.shape[0]} projets kickstarter.\")"
   ]
  },
  {
   "cell_type": "code",
   "execution_count": 33,
   "metadata": {},
   "outputs": [
    {
     "name": "stdout",
     "output_type": "stream",
     "text": [
      "<class 'pandas.core.frame.DataFrame'>\n",
      "RangeIndex: 4175 entries, 0 to 4174\n",
      "Data columns (total 56 columns):\n",
      " #   Column                      Non-Null Count  Dtype  \n",
      "---  ------                      --------------  -----  \n",
      " 0   day_succ                    4175 non-null   int64  \n",
      " 1   Status                      4175 non-null   int64  \n",
      " 2   cat1                        4175 non-null   int64  \n",
      " 3   cat2                        4175 non-null   int64  \n",
      " 4   cat3                        4175 non-null   int64  \n",
      " 5   cat4                        4175 non-null   int64  \n",
      " 6   cat5                        4175 non-null   int64  \n",
      " 7   cat6                        4175 non-null   int64  \n",
      " 8   cat7                        4175 non-null   int64  \n",
      " 9   cat8                        4175 non-null   int64  \n",
      " 10  cat9                        4175 non-null   int64  \n",
      " 11  cat10                       4175 non-null   int64  \n",
      " 12  cat11                       4175 non-null   int64  \n",
      " 13  cat12                       4175 non-null   int64  \n",
      " 14  cat13                       4175 non-null   int64  \n",
      " 15  cat14                       4175 non-null   int64  \n",
      " 16  cat15                       4175 non-null   int64  \n",
      " 17  curr1                       4175 non-null   int64  \n",
      " 18  curr2                       4175 non-null   int64  \n",
      " 19  curr3                       4175 non-null   int64  \n",
      " 20  curr4                       4175 non-null   int64  \n",
      " 21  curr5                       4175 non-null   int64  \n",
      " 22  curr6                       4175 non-null   int64  \n",
      " 23  goal                        4175 non-null   float64\n",
      " 24  backers                     4175 non-null   float64\n",
      " 25  pledged                     4175 non-null   float64\n",
      " 26  duration                    4175 non-null   float64\n",
      " 27  updates                     4175 non-null   float64\n",
      " 28  comments                    4175 non-null   float64\n",
      " 29  rewards                     4175 non-null   float64\n",
      " 30  facebook_connected          4175 non-null   int64  \n",
      " 31  facebook_friends            4175 non-null   float64\n",
      " 32  facebook_shares             4175 non-null   float64\n",
      " 33  has_video                   4175 non-null   int64  \n",
      " 34  creator_projects_created    4175 non-null   float64\n",
      " 35  creator_projects_backed     4175 non-null   float64\n",
      " 36  videos                      4175 non-null   float64\n",
      " 37  images                      4175 non-null   float64\n",
      " 38  words_description           4175 non-null   float64\n",
      " 39  words_risks_and_challenges  4175 non-null   float64\n",
      " 40  faqs                        4175 non-null   float64\n",
      " 41  prj_prom                    4175 non-null   float64\n",
      " 42  crt_suc_perc                4175 non-null   float64\n",
      " 43  usr_net_pg_rnk              4175 non-null   float64\n",
      " 44  usr_net_nodes               4175 non-null   float64\n",
      " 45  usr_net_tie                 4175 non-null   float64\n",
      " 46  usr_net_bic                 4175 non-null   float64\n",
      " 47  1f_plg                      4175 non-null   float64\n",
      " 48  1f_bck                      4175 non-null   float64\n",
      " 49  1prj_prom                   4175 non-null   float64\n",
      " 50  2f_plg                      4175 non-null   float64\n",
      " 51  2f_bck                      4175 non-null   float64\n",
      " 52  2prj_prom                   4175 non-null   float64\n",
      " 53  3f_plg                      4175 non-null   float64\n",
      " 54  3f_bck                      4175 non-null   float64\n",
      " 55  3prj_prom                   4175 non-null   float64\n",
      "dtypes: float64(31), int64(25)\n",
      "memory usage: 1.8 MB\n"
     ]
    }
   ],
   "source": [
    "df.info()"
   ]
  },
  {
   "cell_type": "markdown",
   "metadata": {},
   "source": [
    "Nous séparons les variables numériques des variables catégoriques pour plus de commodités."
   ]
  },
  {
   "cell_type": "code",
   "execution_count": 35,
   "metadata": {},
   "outputs": [
    {
     "data": {
      "text/plain": [
       "['cat1',\n",
       " 'cat2',\n",
       " 'cat3',\n",
       " 'cat4',\n",
       " 'cat5',\n",
       " 'cat6',\n",
       " 'cat7',\n",
       " 'cat8',\n",
       " 'cat9',\n",
       " 'cat10',\n",
       " 'cat11',\n",
       " 'cat12',\n",
       " 'cat13',\n",
       " 'cat14',\n",
       " 'cat15',\n",
       " 'curr1',\n",
       " 'curr2',\n",
       " 'curr3',\n",
       " 'curr4',\n",
       " 'curr5',\n",
       " 'curr6',\n",
       " 'Status',\n",
       " 'facebook_connected',\n",
       " 'has_video']"
      ]
     },
     "execution_count": 35,
     "metadata": {},
     "output_type": "execute_result"
    }
   ],
   "source": [
    "var_categoriques = [\n",
    "        f\"cat{i}\" for i in range(1, 16)\n",
    "    ] + \\\n",
    "    [\n",
    "        f\"curr{i}\" for i in range(1, 7)\n",
    "    ] + \\\n",
    "    [\n",
    "        \"Status\",\n",
    "        \"facebook_connected\",\n",
    "        \"has_video\"\n",
    "    ]\n",
    "var_categoriques\n"
   ]
  },
  {
   "cell_type": "code",
   "execution_count": 34,
   "metadata": {},
   "outputs": [
    {
     "data": {
      "text/plain": [
       "['cat1',\n",
       " 'cat2',\n",
       " 'cat3',\n",
       " 'cat4',\n",
       " 'cat5',\n",
       " 'cat6',\n",
       " 'cat7',\n",
       " 'cat8',\n",
       " 'cat9',\n",
       " 'cat10',\n",
       " 'cat11',\n",
       " 'cat12',\n",
       " 'cat13',\n",
       " 'cat14',\n",
       " 'cat15',\n",
       " 'curr1',\n",
       " 'curr2',\n",
       " 'curr3',\n",
       " 'curr4',\n",
       " 'curr5',\n",
       " 'curr6',\n",
       " 'Status',\n",
       " 'facebook_connected',\n",
       " 'has_video']"
      ]
     },
     "execution_count": 34,
     "metadata": {},
     "output_type": "execute_result"
    }
   ],
   "source": [
    "var_numeriques = df.columns "
   ]
  },
  {
   "cell_type": "markdown",
   "metadata": {},
   "source": [
    "Nous convertissons les variables catégoriques en type `category`. (Nous les convertissons au préalable en type `string` car cela facilite l'affichage de la légende avec Matplotlib et Seaborn)"
   ]
  },
  {
   "cell_type": "code",
   "execution_count": null,
   "metadata": {},
   "outputs": [],
   "source": [
    "df[var_categoriques] = df[var_categoriques].astype(str).astype(\"category\")"
   ]
  },
  {
   "cell_type": "code",
   "execution_count": null,
   "metadata": {},
   "outputs": [],
   "source": [
    "# todo: convertir en int la variable Income (qui est float)"
   ]
  },
  {
   "cell_type": "markdown",
   "metadata": {},
   "source": [
    "Nous convertissons les variables au format date."
   ]
  },
  {
   "cell_type": "code",
   "execution_count": null,
   "metadata": {},
   "outputs": [],
   "source": [
    "df[\"Dt_Customer\"] = pd.to_datetime(df[\"Dt_Customer\"], format=\"%d-%m-%Y\")"
   ]
  },
  {
   "cell_type": "code",
   "execution_count": null,
   "metadata": {},
   "outputs": [],
   "source": [
    "df.info()"
   ]
  },
  {
   "cell_type": "markdown",
   "metadata": {},
   "source": [
    "Nous avons 11 variables catégoriques, 16 variables quantitatives (dont 15 entières) ainsi qu'une variable de type date."
   ]
  },
  {
   "cell_type": "markdown",
   "metadata": {},
   "source": [
    "# Découverte des données"
   ]
  },
  {
   "cell_type": "markdown",
   "metadata": {},
   "source": [
    "## Analyse univariée"
   ]
  },
  {
   "cell_type": "code",
   "execution_count": null,
   "metadata": {},
   "outputs": [],
   "source": [
    "df[var_numeriques].describe()"
   ]
  },
  {
   "cell_type": "code",
   "execution_count": null,
   "metadata": {},
   "outputs": [],
   "source": [
    "df[var_categoriques].describe()"
   ]
  },
  {
   "cell_type": "code",
   "execution_count": null,
   "metadata": {},
   "outputs": [],
   "source": [
    "# todo: commenter"
   ]
  },
  {
   "cell_type": "markdown",
   "metadata": {},
   "source": [
    "## Visualisation"
   ]
  },
  {
   "cell_type": "markdown",
   "metadata": {},
   "source": [
    "### Variables numériques"
   ]
  },
  {
   "cell_type": "code",
   "execution_count": null,
   "metadata": {},
   "outputs": [],
   "source": [
    "for var in var_numeriques:\n",
    "    _, ax = plt.subplots(1, 2, figsize=(8, 2))\n",
    "    sns.boxplot(df[var], width=0.25, ax=ax[0])\n",
    "    sns.histplot(df[var], kde=True, ax=ax[1])\n",
    "    plt.show()"
   ]
  },
  {
   "cell_type": "code",
   "execution_count": null,
   "metadata": {},
   "outputs": [],
   "source": [
    "# todo: commenter les distributions et boxplots"
   ]
  },
  {
   "cell_type": "code",
   "execution_count": null,
   "metadata": {},
   "outputs": [],
   "source": [
    "plt.figure(figsize=(8, 8))\n",
    "sns.heatmap(\n",
    "    df[var_numeriques].corr()[df[var_numeriques].corr().abs() > 0.5],\n",
    "    annot=True,\n",
    "    cmap=\"BrBG\",\n",
    "    linewidths=0.5,\n",
    "    vmax=1,\n",
    "    vmin=-1,\n",
    ")"
   ]
  },
  {
   "cell_type": "code",
   "execution_count": null,
   "metadata": {},
   "outputs": [],
   "source": [
    "# todo: commenter la matrice de corrélation"
   ]
  },
  {
   "cell_type": "code",
   "execution_count": null,
   "metadata": {},
   "outputs": [],
   "source": [
    "_, ax = plt.subplots(1, 2, figsize=(15, 4))\n",
    "\n",
    "ax[0].set_title(\"Nombre de valeurs présentes\")\n",
    "df.notna().sum()[var_numeriques].plot.barh(ax=ax[0])\n",
    "\n",
    "ax[1].set_title(\"Valeurs manquantes\")\n",
    "sns.heatmap(df[var_numeriques].isna(), cbar=False, ax=ax[1])"
   ]
  },
  {
   "cell_type": "markdown",
   "metadata": {},
   "source": [
    "Nous observons qu'il n'y a quasiment pas de valeurs manquantes parmi les variables numériques."
   ]
  },
  {
   "cell_type": "markdown",
   "metadata": {},
   "source": [
    "### Variables catégoriques"
   ]
  },
  {
   "cell_type": "code",
   "execution_count": null,
   "metadata": {},
   "outputs": [],
   "source": [
    "for var in var_categoriques:\n",
    "    if df[var].nunique() > 3:\n",
    "        sns.histplot(y=df[var])\n",
    "    else:\n",
    "        plt.figure(figsize=(4, 2))\n",
    "        sns.histplot(df[var], shrink=0.3)\n",
    "    plt.show()"
   ]
  },
  {
   "cell_type": "code",
   "execution_count": null,
   "metadata": {},
   "outputs": [],
   "source": [
    "df[\n",
    "    df[var_categoriques].columns[df[var_categoriques].nunique() > 3]\n",
    "].value_counts().plot(kind=\"bar\")"
   ]
  },
  {
   "cell_type": "code",
   "execution_count": null,
   "metadata": {},
   "outputs": [],
   "source": [
    "# todo: commenter"
   ]
  },
  {
   "cell_type": "markdown",
   "metadata": {},
   "source": [
    "#### Valeurs manquantes"
   ]
  },
  {
   "cell_type": "code",
   "execution_count": null,
   "metadata": {},
   "outputs": [],
   "source": [
    "_, ax = plt.subplots(1, 2, figsize=(15, 4))\n",
    "\n",
    "ax[0].set_title(\"Nombre de valeurs présentes\")\n",
    "df.notna().sum()[var_categoriques].plot.barh(ax=ax[0])\n",
    "\n",
    "ax[1].set_title(\"Valeurs manquantes\")\n",
    "sns.heatmap(df[var_categoriques].isna(), cbar=False, ax=ax[1])"
   ]
  },
  {
   "cell_type": "markdown",
   "metadata": {},
   "source": [
    "Nous observons l'absence de valeurs manquantes parmi les variables catégoriques."
   ]
  },
  {
   "cell_type": "markdown",
   "metadata": {},
   "source": [
    "### Dates"
   ]
  },
  {
   "cell_type": "code",
   "execution_count": null,
   "metadata": {},
   "outputs": [],
   "source": [
    "# todo"
   ]
  },
  {
   "cell_type": "code",
   "execution_count": null,
   "metadata": {},
   "outputs": [],
   "source": [
    "df[\"Dt_Customer\"].hist(bins=50)"
   ]
  },
  {
   "cell_type": "markdown",
   "metadata": {},
   "source": [
    "# Sauvegarde du Dataframe"
   ]
  },
  {
   "cell_type": "code",
   "execution_count": null,
   "metadata": {},
   "outputs": [],
   "source": [
    "df.to_csv(\"../data/data.csv\")"
   ]
  }
 ],
 "metadata": {
  "kernelspec": {
   "display_name": "python3",
   "language": "python",
   "name": "python3"
  },
  "language_info": {
   "codemirror_mode": {
    "name": "ipython",
    "version": 3
   },
   "file_extension": ".py",
   "mimetype": "text/x-python",
   "name": "python",
   "nbconvert_exporter": "python",
   "pygments_lexer": "ipython3",
   "version": "3.10.10"
  }
 },
 "nbformat": 4,
 "nbformat_minor": 0
}
